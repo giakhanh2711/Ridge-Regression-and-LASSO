{
 "cells": [
  {
   "cell_type": "code",
   "execution_count": 121,
   "id": "e3f593d9",
   "metadata": {},
   "outputs": [],
   "source": [
    "LAMBDA = 1000\n",
    "LAMBDAS = [0, 0.01, 0.1, 1, 10, 100, 1000]"
   ]
  },
  {
   "cell_type": "code",
   "execution_count": 122,
   "id": "c731ecb5",
   "metadata": {},
   "outputs": [],
   "source": [
    "import numpy as np\n",
    "from sklearn.linear_model import Ridge, Lasso\n",
    "from sklearn.metrics import mean_squared_error\n",
    "import re\n",
    "import pandas as pd"
   ]
  },
  {
   "cell_type": "code",
   "execution_count": 123,
   "id": "cd0b8905",
   "metadata": {},
   "outputs": [],
   "source": [
    "with open(\"house_scale.txt\") as f:\n",
    "    data = f.read()"
   ]
  },
  {
   "cell_type": "code",
   "execution_count": 124,
   "id": "47de0751",
   "metadata": {},
   "outputs": [],
   "source": [
    "formatted_data = re.sub(r\"\\S+:\", \",\", data)"
   ]
  },
  {
   "cell_type": "code",
   "execution_count": 125,
   "id": "7bc6936f",
   "metadata": {},
   "outputs": [],
   "source": [
    "with open(\"test.csv\", \"w\") as f:\n",
    "    f.write(formatted_data)"
   ]
  },
  {
   "cell_type": "code",
   "execution_count": 126,
   "id": "d3cbcff0",
   "metadata": {},
   "outputs": [
    {
     "data": {
      "text/html": [
       "<div>\n",
       "<style scoped>\n",
       "    .dataframe tbody tr th:only-of-type {\n",
       "        vertical-align: middle;\n",
       "    }\n",
       "\n",
       "    .dataframe tbody tr th {\n",
       "        vertical-align: top;\n",
       "    }\n",
       "\n",
       "    .dataframe thead th {\n",
       "        text-align: right;\n",
       "    }\n",
       "</style>\n",
       "<table border=\"1\" class=\"dataframe\">\n",
       "  <thead>\n",
       "    <tr style=\"text-align: right;\">\n",
       "      <th></th>\n",
       "      <th>0</th>\n",
       "      <th>1</th>\n",
       "      <th>2</th>\n",
       "      <th>3</th>\n",
       "      <th>4</th>\n",
       "      <th>5</th>\n",
       "      <th>6</th>\n",
       "      <th>7</th>\n",
       "      <th>8</th>\n",
       "      <th>9</th>\n",
       "      <th>10</th>\n",
       "      <th>11</th>\n",
       "      <th>12</th>\n",
       "      <th>13</th>\n",
       "    </tr>\n",
       "  </thead>\n",
       "  <tbody>\n",
       "    <tr>\n",
       "      <th>0</th>\n",
       "      <td>24.0</td>\n",
       "      <td>-1.000000</td>\n",
       "      <td>-0.64</td>\n",
       "      <td>-0.864370</td>\n",
       "      <td>-1</td>\n",
       "      <td>-0.370370</td>\n",
       "      <td>0.155011</td>\n",
       "      <td>0.283213</td>\n",
       "      <td>-0.461594</td>\n",
       "      <td>-1.000000</td>\n",
       "      <td>-0.583969</td>\n",
       "      <td>-0.425532</td>\n",
       "      <td>1.000000</td>\n",
       "      <td>-0.820640</td>\n",
       "    </tr>\n",
       "    <tr>\n",
       "      <th>1</th>\n",
       "      <td>21.6</td>\n",
       "      <td>-0.999528</td>\n",
       "      <td>-1.00</td>\n",
       "      <td>-0.515396</td>\n",
       "      <td>-1</td>\n",
       "      <td>-0.654321</td>\n",
       "      <td>0.095995</td>\n",
       "      <td>0.565396</td>\n",
       "      <td>-0.302076</td>\n",
       "      <td>-0.913043</td>\n",
       "      <td>-0.790076</td>\n",
       "      <td>0.106383</td>\n",
       "      <td>1.000000</td>\n",
       "      <td>-0.591060</td>\n",
       "    </tr>\n",
       "    <tr>\n",
       "      <th>2</th>\n",
       "      <td>34.7</td>\n",
       "      <td>-0.999529</td>\n",
       "      <td>-1.00</td>\n",
       "      <td>-0.515396</td>\n",
       "      <td>-1</td>\n",
       "      <td>-0.654321</td>\n",
       "      <td>0.388772</td>\n",
       "      <td>0.198764</td>\n",
       "      <td>-0.302076</td>\n",
       "      <td>-0.913043</td>\n",
       "      <td>-0.790076</td>\n",
       "      <td>0.106383</td>\n",
       "      <td>0.979475</td>\n",
       "      <td>-0.873068</td>\n",
       "    </tr>\n",
       "    <tr>\n",
       "      <th>3</th>\n",
       "      <td>33.4</td>\n",
       "      <td>-0.999414</td>\n",
       "      <td>-1.00</td>\n",
       "      <td>-0.873900</td>\n",
       "      <td>-1</td>\n",
       "      <td>-0.699588</td>\n",
       "      <td>0.317111</td>\n",
       "      <td>-0.116375</td>\n",
       "      <td>-0.102911</td>\n",
       "      <td>-0.826087</td>\n",
       "      <td>-0.866412</td>\n",
       "      <td>0.297872</td>\n",
       "      <td>0.988552</td>\n",
       "      <td>-0.933223</td>\n",
       "    </tr>\n",
       "    <tr>\n",
       "      <th>4</th>\n",
       "      <td>36.2</td>\n",
       "      <td>-0.998590</td>\n",
       "      <td>-1.00</td>\n",
       "      <td>-0.873900</td>\n",
       "      <td>-1</td>\n",
       "      <td>-0.699588</td>\n",
       "      <td>0.374210</td>\n",
       "      <td>0.056643</td>\n",
       "      <td>-0.102911</td>\n",
       "      <td>-0.826087</td>\n",
       "      <td>-0.866412</td>\n",
       "      <td>0.297872</td>\n",
       "      <td>1.000000</td>\n",
       "      <td>-0.801325</td>\n",
       "    </tr>\n",
       "  </tbody>\n",
       "</table>\n",
       "</div>"
      ],
      "text/plain": [
       "     0         1     2         3   4         5         6         7         8   \\\n",
       "0  24.0 -1.000000 -0.64 -0.864370  -1 -0.370370  0.155011  0.283213 -0.461594   \n",
       "1  21.6 -0.999528 -1.00 -0.515396  -1 -0.654321  0.095995  0.565396 -0.302076   \n",
       "2  34.7 -0.999529 -1.00 -0.515396  -1 -0.654321  0.388772  0.198764 -0.302076   \n",
       "3  33.4 -0.999414 -1.00 -0.873900  -1 -0.699588  0.317111 -0.116375 -0.102911   \n",
       "4  36.2 -0.998590 -1.00 -0.873900  -1 -0.699588  0.374210  0.056643 -0.102911   \n",
       "\n",
       "         9         10        11        12        13  \n",
       "0 -1.000000 -0.583969 -0.425532  1.000000 -0.820640  \n",
       "1 -0.913043 -0.790076  0.106383  1.000000 -0.591060  \n",
       "2 -0.913043 -0.790076  0.106383  0.979475 -0.873068  \n",
       "3 -0.826087 -0.866412  0.297872  0.988552 -0.933223  \n",
       "4 -0.826087 -0.866412  0.297872  1.000000 -0.801325  "
      ]
     },
     "execution_count": 126,
     "metadata": {},
     "output_type": "execute_result"
    }
   ],
   "source": [
    "df = pd.read_csv(\"test.csv\", header=None)\n",
    "df.head()"
   ]
  },
  {
   "cell_type": "code",
   "execution_count": 127,
   "id": "7b9bd154",
   "metadata": {},
   "outputs": [],
   "source": [
    "data = df.to_numpy()"
   ]
  },
  {
   "cell_type": "code",
   "execution_count": 128,
   "id": "043a69b6",
   "metadata": {},
   "outputs": [],
   "source": [
    "Y = data[:, 0]\n",
    "X = data[:, 1:]"
   ]
  },
  {
   "cell_type": "code",
   "execution_count": 129,
   "id": "6a728fb7",
   "metadata": {},
   "outputs": [
    {
     "data": {
      "text/plain": [
       "(1, (506, 13))"
      ]
     },
     "execution_count": 129,
     "metadata": {},
     "output_type": "execute_result"
    }
   ],
   "source": [
    "Y.ndim, X.shape"
   ]
  },
  {
   "cell_type": "code",
   "execution_count": 130,
   "id": "e0d3db6b",
   "metadata": {},
   "outputs": [
    {
     "data": {
      "text/plain": [
       "((506, 13), (506,))"
      ]
     },
     "execution_count": 130,
     "metadata": {},
     "output_type": "execute_result"
    }
   ],
   "source": [
    "X.shape, Y.shape"
   ]
  },
  {
   "cell_type": "code",
   "execution_count": 131,
   "id": "146079dc",
   "metadata": {},
   "outputs": [],
   "source": [
    "n_samples, n_features = X_train.shape"
   ]
  },
  {
   "cell_type": "code",
   "execution_count": 133,
   "id": "4bd6321f",
   "metadata": {},
   "outputs": [
    {
     "data": {
      "text/plain": [
       "400"
      ]
     },
     "execution_count": 133,
     "metadata": {},
     "output_type": "execute_result"
    }
   ],
   "source": [
    "n_samples"
   ]
  },
  {
   "cell_type": "code",
   "execution_count": 134,
   "id": "683f2fe3",
   "metadata": {},
   "outputs": [],
   "source": [
    "\"\"\"\n",
    "This class is for Ridge Linear Regression and Lasso Linear Regression\n",
    "\"\"\"\n",
    "\n",
    "class LinearRegression:\n",
    "    def __init__(self, model_name: str, alpha):\n",
    "        if model_name not in [\"ridge\", \"lasso\"]:\n",
    "            print(\"Only serves Ridge and Lasso linear regression\")\n",
    "            exit(0)\n",
    "        else:\n",
    "            self.model_name = model_name\n",
    "            if model_name == \"ridge\":\n",
    "                self.model = Ridge(alpha = alpha)\n",
    "            else:\n",
    "                self.model = Lasso(alpha = alpha)\n",
    "\n",
    "    @property\n",
    "    def name(self):\n",
    "        return self.model_name\n",
    "    \n",
    "    \"\"\"\n",
    "        X: [n_samples x n_features]\n",
    "        Y: [n_samples,]\n",
    "    \"\"\"\n",
    "    def train(self, X, Y):\n",
    "        self.model.fit(X, Y)\n",
    "    \n",
    "    \"\"\"\n",
    "    Return:\n",
    "        bias: scalar\n",
    "        weights: [n_features,]\n",
    "    \"\"\"\n",
    "    def get_weights(self):\n",
    "        return {\"bias\": self.model.intercept_,\n",
    "                \"weights\": self.model.coef_}\n",
    "    \n",
    "    \"\"\"\n",
    "    Return:\n",
    "        MSE loss: scalar\n",
    "    \"\"\"\n",
    "    def get_mse_loss(self, X, Y):\n",
    "        y_pred = self.model.predict(X)\n",
    "        mse = mean_squared_error(Y, y_pred)\n",
    "        return np.sqrt(mse)\n",
    "    \n",
    "\n",
    "    def print_params(self):\n",
    "        params = self.get_weights()\n",
    "        print(f\"{self.model_name.capitalize()} bias and weights:\")\n",
    "        print(f\"\\tBias w0 = {np.round(params['bias'], 4)}\")\n",
    "        print(f\"\\tw.T = {np.round(params['weights'], 4)}\")"
   ]
  },
  {
   "cell_type": "code",
   "execution_count": 135,
   "id": "e9a846ba",
   "metadata": {},
   "outputs": [
    {
     "name": "stderr",
     "output_type": "stream",
     "text": [
      "C:\\Users\\Gia Khanh\\AppData\\Local\\Temp\\ipykernel_9936\\566955264.py:26: UserWarning: With alpha=0, this algorithm does not converge well. You are advised to use the LinearRegression estimator\n",
      "  self.model.fit(X, Y)\n",
      "C:\\Users\\Gia Khanh\\AppData\\Roaming\\Python\\Python310\\site-packages\\sklearn\\linear_model\\_coordinate_descent.py:634: UserWarning: Coordinate descent with no regularization may lead to unexpected results and is discouraged.\n",
      "  model = cd_fast.enet_coordinate_descent(\n",
      "C:\\Users\\Gia Khanh\\AppData\\Roaming\\Python\\Python310\\site-packages\\sklearn\\linear_model\\_coordinate_descent.py:634: ConvergenceWarning: Objective did not converge. You might want to increase the number of iterations, check the scale of the features or consider increasing regularisation. Duality gap: 4.461e+03, tolerance: 3.352e+00 Linear regression models with null weight for the l1 regularization term are more efficiently fitted using one of the solvers implemented in sklearn.linear_model.Ridge/RidgeCV instead.\n",
      "  model = cd_fast.enet_coordinate_descent(\n"
     ]
    }
   ],
   "source": [
    "model_names = [\"ridge\", \"lasso\"]\n",
    "errors = {}\n",
    "for names in model_names:\n",
    "    errors[names] = {\n",
    "        \"training_errors\": {},\n",
    "        \"testing_errors\": {}\n",
    "    }\n",
    "\n",
    "X_train, X_test = X[:400], X[400:]\n",
    "Y_train, Y_test = Y[:400], Y[400:]\n",
    "for l in LAMBDAS:\n",
    "    ridge = LinearRegression(\"ridge\", l/n_samples)\n",
    "    lasso = LinearRegression(\"lasso\", l/n_samples)\n",
    "    models = [ridge, lasso]\n",
    "    \n",
    "    for model in models:\n",
    "        model.train(X_train, Y_train)\n",
    "        errors[model.name][\"training_errors\"][l] = model.get_mse_loss(X_train, Y_train)\n",
    "        errors[model.name][\"testing_errors\"][l] = model.get_mse_loss(X_test, Y_test)"
   ]
  },
  {
   "cell_type": "code",
   "execution_count": 136,
   "id": "16d44ffd",
   "metadata": {},
   "outputs": [],
   "source": [
    "from sklearn.model_selection import KFold\n",
    "\n",
    "k = 5\n",
    "kf = KFold(n_splits=5, shuffle=True)"
   ]
  },
  {
   "cell_type": "code",
   "execution_count": 137,
   "id": "eb1b2fe2",
   "metadata": {},
   "outputs": [
    {
     "data": {
      "text/plain": [
       "5"
      ]
     },
     "execution_count": 137,
     "metadata": {},
     "output_type": "execute_result"
    }
   ],
   "source": [
    "kf.get_n_splits(X_train)"
   ]
  },
  {
   "cell_type": "code",
   "execution_count": 138,
   "id": "da532a6c",
   "metadata": {},
   "outputs": [
    {
     "name": "stdout",
     "output_type": "stream",
     "text": [
      "320\n"
     ]
    }
   ],
   "source": [
    "    print(len(train_idx))"
   ]
  },
  {
   "cell_type": "code",
   "execution_count": 139,
   "id": "c698ed3c",
   "metadata": {},
   "outputs": [
    {
     "data": {
      "text/plain": [
       "<generator object _BaseKFold.split at 0x0000017770FA1AF0>"
      ]
     },
     "execution_count": 139,
     "metadata": {},
     "output_type": "execute_result"
    }
   ],
   "source": [
    "iter(kf.split(X))"
   ]
  },
  {
   "cell_type": "code",
   "execution_count": null,
   "id": "9dd97752",
   "metadata": {},
   "outputs": [],
   "source": [
    "k = 5\n",
    "kf = KFold(n_splits=5, shuffle=True)\n",
    "val_errors = {name: {} for name in model_names}\n",
    "\n",
    "    \n",
    "for l in LAMBDAS:\n",
    "    val_errors_lambda = {name: [] for name in model_names}\n",
    "\n",
    "    for train_idx, val_idx in kf.split(X_train):\n",
    "        X_train_kf, X_val_kf = X_train[train_idx], X_train[val_idx]\n",
    "        Y_train_kf, Y_val_kf = Y_train[train_idx], Y_train[val_idx]\n",
    "\n",
    "        ridge = LinearRegression(\"ridge\", l/n_samples)\n",
    "        lasso = LinearRegression(\"lasso\", l/n_samples)\n",
    "        models = [ridge, lasso]\n",
    "        \n",
    "        for model in models:\n",
    "            model.train(X_train_kf, Y_train_kf)\n",
    "            val_errors_lambda[model.name].append(model.get_mse_loss(X_val_kf, Y_val_kf))\n",
    "    \n",
    "    for name in model_names:\n",
    "        val_errors[name][l] = np.mean(val_errors_lambda[name])\n",
    "            "
   ]
  },
  {
   "cell_type": "code",
   "execution_count": 144,
   "id": "6adf399c",
   "metadata": {},
   "outputs": [
    {
     "name": "stdout",
     "output_type": "stream",
     "text": [
      "ridge 6.155699012995999\n",
      "lasso 6.1476992143955185\n"
     ]
    }
   ],
   "source": [
    "ridge = LinearRegression(\"ridge\", 0.1/n_samples)\n",
    "lasso = LinearRegression(\"lasso\", 0.1/n_samples)\n",
    "models = [ridge, lasso]\n",
    "        \n",
    "for model in models:\n",
    "    model.train(X_train, Y_train)\n",
    "    print(model.name, model.get_mse_loss(X_test, Y_test))"
   ]
  },
  {
   "cell_type": "code",
   "execution_count": 141,
   "id": "1958b861",
   "metadata": {},
   "outputs": [
    {
     "data": {
      "text/plain": [
       "2"
      ]
     },
     "execution_count": 141,
     "metadata": {},
     "output_type": "execute_result"
    }
   ],
   "source": [
    "np.argmin(list(val_errors[\"ridge\"].values()))"
   ]
  },
  {
   "cell_type": "code",
   "execution_count": 142,
   "id": "459fed59",
   "metadata": {},
   "outputs": [
    {
     "data": {
      "text/plain": [
       "2"
      ]
     },
     "execution_count": 142,
     "metadata": {},
     "output_type": "execute_result"
    }
   ],
   "source": [
    "np.argmin(list(val_errors[\"lasso\"].values()))"
   ]
  },
  {
   "cell_type": "code",
   "execution_count": 143,
   "id": "b697a24c",
   "metadata": {},
   "outputs": [
    {
     "data": {
      "text/plain": [
       "{0: 4.987382274770555,\n",
       " 0.01: 5.129880210472845,\n",
       " 0.1: 4.892679557155466,\n",
       " 1: 5.054513288666351,\n",
       " 10: 4.925238747783887,\n",
       " 100: 4.9778536611752315,\n",
       " 1000: 4.986138508191425}"
      ]
     },
     "execution_count": 143,
     "metadata": {},
     "output_type": "execute_result"
    }
   ],
   "source": [
    "val_errors[\"ridge\"]"
   ]
  },
  {
   "cell_type": "code",
   "execution_count": 146,
   "id": "824d44fc",
   "metadata": {},
   "outputs": [
    {
     "data": {
      "text/plain": [
       "0"
      ]
     },
     "execution_count": 146,
     "metadata": {},
     "output_type": "execute_result"
    }
   ],
   "source": [
    "np.argmin(list(errors[\"lasso\"][\"training_errors\"].values()))"
   ]
  },
  {
   "cell_type": "code",
   "execution_count": null,
   "id": "59231928",
   "metadata": {},
   "outputs": [
    {
     "data": {
      "text/plain": [
       "{0: 6.155792280413741,\n",
       " 0.01: 6.155495511199555,\n",
       " 0.1: 6.152827074111483,\n",
       " 1: 6.1266348208733294,\n",
       " 10: 5.9169816386812535,\n",
       " 100: 5.592560409495196,\n",
       " 1000: 4.534411617551291}"
      ]
     },
     "execution_count": 113,
     "metadata": {},
     "output_type": "execute_result"
    }
   ],
   "source": [
    "errors[\"lasso\"][\"testing_errors\"][0]"
   ]
  },
  {
   "cell_type": "code",
   "execution_count": 147,
   "id": "a537e340",
   "metadata": {},
   "outputs": [
    {
     "data": {
      "image/png": "[encoded data removed]",
      "text/plain": [
       "<Figure size 1400x500 with 2 Axes>"
      ]
     },
     "metadata": {},
     "output_type": "display_data"
    }
   ],
   "source": [
    "plt.figure(figsize=(14, 5))\n",
    "\n",
    "# --- Ridge subplot ---\n",
    "plt.subplot(1, 2, 1)\n",
    "plt.plot(LAMBDAS, errors[\"ridge\"][\"training_errors\"].values(), label=\"Training Error\")\n",
    "plt.plot(LAMBDAS, errors[\"ridge\"][\"testing_errors\"].values(), label=\"Testing Error\")\n",
    "plt.title(\"Ridge Regression: Training vs Testing Error\")\n",
    "plt.xlabel(\"Lambda\")\n",
    "plt.ylabel(\"Root Mean Squared Error\")\n",
    "plt.legend()\n",
    "plt.grid(True)\n",
    "\n",
    "# --- Lasso subplot ---\n",
    "plt.subplot(1, 2, 2)\n",
    "plt.plot(LAMBDAS, errors[\"lasso\"][\"training_errors\"].values(), label=\"Training Error\")\n",
    "plt.plot(LAMBDAS, errors[\"lasso\"][\"testing_errors\"].values(), label=\"Testing Error\")\n",
    "plt.title(\"Lasso Regression: Training vs Testing Error\")\n",
    "plt.xlabel(\"Lambda\")\n",
    "plt.ylabel(\"Root Mean Squared Error\")\n",
    "plt.legend()\n",
    "plt.grid(True)\n",
    "\n",
    "plt.tight_layout()\n",
    "plt.show()"
   ]
  },
  {
   "cell_type": "code",
   "execution_count": 148,
   "id": "4937fef7",
   "metadata": {},
   "outputs": [
    {
     "name": "stdout",
     "output_type": "stream",
     "text": [
      "ridge 0\n",
      "6.1557930498782065 ridge\n",
      "lasso 0\n",
      "6.155793049878201 lasso\n"
     ]
    }
   ],
   "source": [
    "for name in model_names:\n",
    "    a = np.argmin(list(errors[name][\"training_errors\"].values()))\n",
    "    print(name, a)\n",
    "    print(errors[name][\"testing_errors\"][a], name)"
   ]
  },
  {
   "cell_type": "code",
   "execution_count": 149,
   "id": "1ed18241",
   "metadata": {},
   "outputs": [
    {
     "data": {
      "text/plain": [
       "False"
      ]
     },
     "execution_count": 149,
     "metadata": {},
     "output_type": "execute_result"
    }
   ],
   "source": [
    "errors[\"ridge\"][\"testing_errors\"][0] == errors[\"lasso\"][\"testing_errors\"][0]"
   ]
  },
  {
   "cell_type": "code",
   "execution_count": 152,
   "id": "80b3b942",
   "metadata": {},
   "outputs": [
    {
     "name": "stdout",
     "output_type": "stream",
     "text": [
      "Ridge bias and weights:\n",
      "\tBias w0 = 12.758\n",
      "\tw.T = [-3.8545e+00  2.0347e+00  1.0000e-04  1.4118e+00 -3.7619e+00  9.5590e+00\n",
      "  3.3200e-02 -7.1469e+00  3.0351e+00 -2.8340e+00 -4.4120e+00  1.8589e+00\n",
      " -9.3544e+00]\n"
     ]
    }
   ],
   "source": [
    "ridge = LinearRegression(\"ridge\", 1000 / n_samples)\n",
    "ridge.train(X, Y)\n",
    "w = ridge.get_weights()\n",
    "ridge.print_params()"
   ]
  },
  {
   "cell_type": "code",
   "execution_count": 151,
   "id": "e9f04dc2",
   "metadata": {},
   "outputs": [
    {
     "data": {
      "text/plain": [
       "array([-3.855,  2.035,  0.   ,  1.412, -3.762,  9.559,  0.033, -7.147,\n",
       "        3.035, -2.834, -4.412,  1.859, -9.354])"
      ]
     },
     "execution_count": 151,
     "metadata": {},
     "output_type": "execute_result"
    }
   ],
   "source": [
    "np.round(w[\"weights\"], 3)"
   ]
  },
  {
   "cell_type": "code",
   "execution_count": 119,
   "id": "3887074f",
   "metadata": {},
   "outputs": [
    {
     "name": "stdout",
     "output_type": "stream",
     "text": [
      "Lasso bias and weights:\n",
      "\tBias w0 = 37.6924\n",
      "\tw.T = [-0.0039  0.035  -0.      0.     -0.      0.      0.0441 -0.      0.1141\n",
      " -0.01   -0.4158  0.0068 -0.8165]\n"
     ]
    }
   ],
   "source": [
    "lasso = LinearRegression(\"lasso\", 1000 / n_samples)\n",
    "lasso.train(X, Y)\n",
    "w_lasso = lasso.get_weights()\n",
    "print(\"Lasso bias and weights:\")\n",
    "print(f\"\\tBias w0 = {np.round(w_lasso['bias'], 4)}\")\n",
    "print(f\"\\tw.T = {np.round(w_lasso['weights'], 4)}\")"
   ]
  },
  {
   "cell_type": "code",
   "execution_count": 120,
   "id": "d3d537a4",
   "metadata": {},
   "outputs": [],
   "source": [
    "import matplotlib.pyplot as plt"
   ]
  },
  {
   "cell_type": "code",
   "execution_count": null,
   "id": "a5eadb6a",
   "metadata": {},
   "outputs": [],
   "source": []
  }
 ],
 "metadata": {
  "kernelspec": {
   "display_name": "base",
   "language": "python",
   "name": "python3"
  },
  "language_info": {
   "codemirror_mode": {
    "name": "ipython",
    "version": 3
   },
   "file_extension": ".py",
   "mimetype": "text/x-python",
   "name": "python",
   "nbconvert_exporter": "python",
   "pygments_lexer": "ipython3",
   "version": "3.10.9"
  }
 },
 "nbformat": 4,
 "nbformat_minor": 5
}
